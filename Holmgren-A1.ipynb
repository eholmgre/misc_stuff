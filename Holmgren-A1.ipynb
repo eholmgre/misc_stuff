{
 "cells": [
  {
   "cell_type": "markdown",
   "metadata": {},
   "source": [
    "# Erik Holmgren\n",
    "## 2018-09-18\n",
    "## CS 425: Assignment 1\n",
    "## Dr. Hamid Chitsaz"
   ]
  },
  {
   "cell_type": "code",
   "execution_count": 1,
   "metadata": {},
   "outputs": [],
   "source": [
    "import numpy as np"
   ]
  },
  {
   "cell_type": "markdown",
   "metadata": {},
   "source": [
    "### Global alignment with limited gaps"
   ]
  },
  {
   "cell_type": "code",
   "execution_count": 2,
   "metadata": {},
   "outputs": [],
   "source": [
    "def global_alignment(u, v, delta, k=-1):\n",
    "    u = u.upper()\n",
    "    v = v.upper()\n",
    "    n = len(u)\n",
    "    m = len(v)\n",
    "    f = np.zeros((n + 1, m + 1))\n",
    "    d = np.zeros((n + 1, m + 1), dtype=str)\n",
    "\n",
    "\n",
    "    def scoref(i, j):\n",
    "        vals = []\n",
    "        vals.append((f[i - 1, j - 1] + delta[u[i - 1]][v[j - 1]], 'd'))\n",
    "        vals.append((f[i - 1, j] + delta[u[i - 1]]['-'], 'l'))\n",
    "        vals.append((f[i, j - 1] + delta['-'][v[j - 1]], 'u'))\n",
    "\n",
    "        return  max(vals, key=lambda x: x[0])\n",
    "\n",
    "\n",
    "    for i in range(1, n + 1):\n",
    "        f[i, 0] = -1 * i\n",
    "\n",
    "    for j in range(1, m + 1):\n",
    "        f[0, j] = -1 * j\n",
    "\n",
    "    d[0, 1:] = 'l'\n",
    "    d[1:, 0] = 'u'\n",
    "\n",
    "    for i in range(1, n + 1):\n",
    "        for j in range(1, m + 1):\n",
    "            f[i, j], d[i, j] = scoref(i, j)\n",
    "\n",
    "    u_aligned = []\n",
    "    v_aligned = []\n",
    "    \n",
    "    if k == -1:\n",
    "        k = float('inf')\n",
    "\n",
    "    u_gap_count = k\n",
    "    v_gap_count = k\n",
    "\n",
    "    score = 0\n",
    "    i = n\n",
    "    j = m\n",
    "    dirr = d[i, j]\n",
    "    while i > 0 or j > 0:\n",
    "        if dirr == 'l' and u_gap_count > 0:\n",
    "            u_aligned.insert(0, '-')\n",
    "            v_aligned.insert(0, v[j - 1])\n",
    "            j -= 1\n",
    "            u_gap_count -= 1\n",
    "        elif dirr == 'u' and v_gap_count > 0:\n",
    "            u_aligned.insert(0, u[i - 1])\n",
    "            v_aligned.insert(0, '-')\n",
    "            i -= 1\n",
    "            v_gap_count -= 1\n",
    "        else: # dirr == 'd':\n",
    "            u_aligned.insert(0, u[i - 1])\n",
    "            v_aligned.insert(0, v[j - 1])\n",
    "            i -= 1\n",
    "            j -= 1\n",
    "            u_gap_count = k\n",
    "            v_gap_count = k\n",
    "\n",
    "        score += f[i, j]\n",
    "        dirr = d[i, j]\n",
    "\n",
    "    return ''.join(u_aligned), ''.join(v_aligned), score"
   ]
  },
  {
   "cell_type": "code",
   "execution_count": 3,
   "metadata": {},
   "outputs": [],
   "source": [
    "global_match = 1\n",
    "global_sigma = -1\n",
    "global_mu = -2\n",
    "\n",
    "global_score_matrix = {\n",
    "    'A' : {'A' : global_match, 'T': global_mu, 'C' : global_mu, 'G' : global_mu, '-': global_sigma},\n",
    "    'T' : {'A' : global_mu, 'T': global_match, 'C' : global_mu, 'G' : global_mu, '-': global_sigma},\n",
    "    'C' : {'A' : global_mu, 'T': global_mu, 'C' : global_match, 'G' : global_mu, '-': global_sigma},\n",
    "    'G' : {'A' : global_mu, 'T': global_mu, 'C' : global_mu, 'G' : global_match, '-': global_sigma},\n",
    "    '-' : {'A' : global_sigma, 'T': global_sigma, 'C' : global_sigma, 'G' : global_sigma, '-': None},\n",
    "}"
   ]
  },
  {
   "cell_type": "code",
   "execution_count": 4,
   "metadata": {},
   "outputs": [],
   "source": [
    "import random\n",
    "\n",
    "def randomDNA(length):\n",
    "    nucs = ['A', 'C', 'T', 'G']\n",
    "    return ''.join([random.choice(nucs) for i in range(length)])"
   ]
  },
  {
   "cell_type": "code",
   "execution_count": 5,
   "metadata": {},
   "outputs": [
    {
     "name": "stdout",
     "output_type": "stream",
     "text": [
      "-CTTTGGGGTTAACGCTGGAAGGC---T\n",
      "TG-ATCACGCC-TCGC--TTCTGAAGGT\n",
      "score: -187.0\n",
      "\n",
      "-CTTTGGGGTTAACGCTGGAAGG-C--T\n",
      "TG-ATCACGCC-TCGC--TTCTGAAGGT\n",
      "score: -186.0\n",
      "\n",
      "-CTTTGGGGTTAACGCTGGAAGG-C-T\n",
      "TG-ATCACGCC-TCGCT-TCTGAAGGT\n",
      "score: -177.0\n",
      "\n",
      "CTTTGGGGTTAACGCTGGAAGGCT\n",
      "TGATCACGCCTCGCTTCTGAAGGT\n",
      "score: -159.0\n",
      "\n",
      "-CTTTGGGGTTAACGCTGGAAGGC-----T\n",
      "TG-ATCACGCC-T--C-GCTTCT-GAAGGT\n",
      "score: -200.0\n",
      "\n"
     ]
    }
   ],
   "source": [
    "u = randomDNA(24)\n",
    "v = randomDNA(24)\n",
    "\n",
    "w, x, score = global_alignment(u, v, global_score_matrix, k=3)\n",
    "print(f'{w}\\n{x}\\nscore: {score}\\n')\n",
    "\n",
    "w, x, score = global_alignment(u, v, global_score_matrix, k=2)\n",
    "print(f'{w}\\n{x}\\nscore: {score}\\n')\n",
    "\n",
    "w, x, score = global_alignment(u, v, global_score_matrix, k=1)\n",
    "print(f'{w}\\n{x}\\nscore: {score}\\n')\n",
    "\n",
    "w, x, score = global_alignment(u, v, global_score_matrix, k=0)\n",
    "print(f'{w}\\n{x}\\nscore: {score}\\n')\n",
    "\n",
    "w, x, score = global_alignment(u, v, global_score_matrix, k=-1)\n",
    "print(f'{w}\\n{x}\\nscore: {score}\\n')"
   ]
  },
  {
   "cell_type": "markdown",
   "metadata": {},
   "source": [
    "### Semi-global Alignment"
   ]
  },
  {
   "cell_type": "code",
   "execution_count": 6,
   "metadata": {},
   "outputs": [],
   "source": [
    "def semi_global_alignment(u, v, delta):\n",
    "    u = u.upper()\n",
    "    v = v.upper()\n",
    "\n",
    "    n, m = len(u), len(v)\n",
    "\n",
    "    f = np.zeros((n + 1, m + 1))\n",
    "    d = np.zeros((n + 1, m + 1), dtype=str)\n",
    "\n",
    "    def score(i, j):\n",
    "        vals = []\n",
    "        vals.append((f[i - 1, j - 1] + delta[u[i - 1]][v[j - 1]], 'd'))\n",
    "        vals.append((f[i - 1, j] + delta[u[i - 1]]['-'], 'l'))\n",
    "        vals.append((f[i, j - 1] + delta['-'][v[j - 1]], 'u'))\n",
    "\n",
    "        return max(vals, key=lambda x: x[0])\n",
    "\n",
    "\n",
    "    for i in range(1, n + 1):\n",
    "        f[i, 0] = -1 * i\n",
    "\n",
    "    d[0, 1:] = 'l'\n",
    "    d[1:,0] = 'u'\n",
    "\n",
    "    for i in range(1, n + 1):\n",
    "        for j in range(1, m + 1):\n",
    "            f[i, j], d[i, j] = score(i, j)\n",
    "\n",
    "\n",
    "    u_aligned = []\n",
    "    v_aligned = []\n",
    "\n",
    "    score = 0\n",
    "    i = n\n",
    "    j = m\n",
    "\n",
    "    max_row = (f[0, m], 0)\n",
    "    for c in range(n):\n",
    "        if f[c, m] > max_row[0]:\n",
    "            max_row = f[c, m], c\n",
    "\n",
    "    i = max_row[1]\n",
    "\n",
    "    for c in range(n - 1, i - 1, -1):\n",
    "        u_aligned.insert(0, u[c])\n",
    "        v_aligned.insert(0, '-')\n",
    "\n",
    "    dirr = d[i, j]\n",
    "    while i > 0 or j > 0:\n",
    "        if dirr == 'd':\n",
    "            u_aligned.insert(0, u[i - 1])\n",
    "            v_aligned.insert(0, v[j - 1])\n",
    "            i -= 1\n",
    "            j -= 1\n",
    "        elif dirr == 'l':\n",
    "            u_aligned.insert(0, '-')\n",
    "            v_aligned.insert(0, v[j - 1])\n",
    "            j -= 1\n",
    "        elif dirr == 'u':\n",
    "            u_aligned.insert(0, u[i - 1])\n",
    "            v_aligned.insert(0, '-')\n",
    "            i -= 1\n",
    "\n",
    "        score += f[i, j]\n",
    "        dirr = d[i, j]\n",
    "\n",
    "    return ''.join(u_aligned), ''.join(v_aligned), score"
   ]
  },
  {
   "cell_type": "code",
   "execution_count": 7,
   "metadata": {},
   "outputs": [
    {
     "name": "stdout",
     "output_type": "stream",
     "text": [
      "CAGCA-CTTGGATTCTCGG\n",
      "---CAGCGTGG--------\n",
      "score: -3.0\n"
     ]
    }
   ],
   "source": [
    "u = 'CAGCACTTGGATTCTCGG'\n",
    "v = 'CAGCGTGG'\n",
    "\n",
    "u, v, score = semi_global_alignment(u, v, global_score_matrix)\n",
    "\n",
    "print(f'{u}\\n{v}\\nscore: {score}')"
   ]
  },
  {
   "cell_type": "markdown",
   "metadata": {},
   "source": [
    "## Local Alignment"
   ]
  },
  {
   "cell_type": "code",
   "execution_count": 8,
   "metadata": {},
   "outputs": [],
   "source": [
    "def local_alignment(u, v, delta):\n",
    "    u = u.upper()\n",
    "    v = v.upper()\n",
    "    \n",
    "    n, m = len(u), len(v)\n",
    "    f = np.zeros((n + 1, m + 1))\n",
    "    d = np.zeros((n + 1, m + 1), dtype=str)\n",
    "    \n",
    "    def score(i, j):\n",
    "        vals = []\n",
    "        #vals.append((f[i - 1, j - 1] + delta[u[i - 1]][v[j - 1]], 'd'))\n",
    "        #vals.append((max([f[i - k, j] + (k * delta[u[i - 1]]['-']) for k in range(1, i + 1)]), 'u'))\n",
    "        #vals.append((max([f[i, j - k] + (k * delta['-'][v[j - 1]]) for k in range(1, j + 1)]), 'l'))\n",
    "        \n",
    "        vals.append((f[i - 1, j - 1] + delta[u[i - 1]][v[j - 1]], 'd'))\n",
    "        vals.append((f[i, j - 1] + delta['-'][v[j - 1]], 'l'))\n",
    "        vals.append((f[i - 1, j] + delta[u[i - 1]]['-'], 'u'))\n",
    "        \n",
    "        best = max(vals, key= lambda x: x[0])\n",
    "        \n",
    "        if best[0] < 0:\n",
    "            return 0, best[1]\n",
    "        \n",
    "        return best\n",
    "\n",
    "    \n",
    "    d[0, 1:] = 'l'\n",
    "    d[1:,0] = 'u'\n",
    "    \n",
    "    best_yet = (0, 0, 0)\n",
    "    for i in range (1, n + 1):\n",
    "        for j in range(1, m + 1):\n",
    "            f[i, j], d[i, j] = score(i, j)\n",
    "            if f[i, j] > best_yet[0]:\n",
    "                best_yet = (f[i, j], i, j)\n",
    "            \n",
    "    u_aligned = []\n",
    "    v_aligned = []\n",
    "    \n",
    "    score = 0\n",
    "    _, i, j = best_yet\n",
    "    dirr = d[i, j]\n",
    "    while i > 0 or j > 0:\n",
    "        if f[i, j] == 0:\n",
    "            break\n",
    "        if dirr == 'd':\n",
    "            u_aligned.insert(0, u[i - 1])\n",
    "            v_aligned.insert(0, v[j - 1])\n",
    "            i -= 1\n",
    "            j -= 1\n",
    "        elif dirr == 'l':\n",
    "            u_aligned.insert(0, '-')\n",
    "            v_aligned.insert(0, v[j - 1])\n",
    "            j -= 1\n",
    "        elif dirr == 'u':\n",
    "            u_aligned.insert(0, u[i - 1])\n",
    "            v_aligned.insert(0, '-')\n",
    "            i -= 1\n",
    "            \n",
    "        score += f[i, j]\n",
    "        dirr = d[i, j]\n",
    "        \n",
    "    return ''.join(u_aligned), ''.join(v_aligned), score"
   ]
  },
  {
   "cell_type": "code",
   "execution_count": 9,
   "metadata": {},
   "outputs": [
    {
     "name": "stdout",
     "output_type": "stream",
     "text": [
      "GTT-AC\n",
      "GTTGAC\n",
      "score: 11.0\n"
     ]
    }
   ],
   "source": [
    "u = 'TGTTACGG'\n",
    "v = 'GGTTGACTA'\n",
    "\n",
    "u, v, score = local_alignment(u, v, global_score_matrix)\n",
    "\n",
    "print(f'{u}\\n{v}\\nscore: {score}')"
   ]
  },
  {
   "cell_type": "code",
   "execution_count": 10,
   "metadata": {},
   "outputs": [],
   "source": [
    "b62 = '''\n",
    "   A  R  N  D  C  Q  E  G  H  I  L  K  M  F  P  S  T  W  Y  V  B  Z  X  *\n",
    "A  4 -1 -2 -2  0 -1 -1  0 -2 -1 -1 -1 -1 -2 -1  1  0 -3 -2  0 -2 -1  0 -4 \n",
    "R -1  5  0 -2 -3  1  0 -2  0 -3 -2  2 -1 -3 -2 -1 -1 -3 -2 -3 -1  0 -1 -4 \n",
    "N -2  0  6  1 -3  0  0  0  1 -3 -3  0 -2 -3 -2  1  0 -4 -2 -3  3  0 -1 -4 \n",
    "D -2 -2  1  6 -3  0  2 -1 -1 -3 -4 -1 -3 -3 -1  0 -1 -4 -3 -3  4  1 -1 -4 \n",
    "C  0 -3 -3 -3  9 -3 -4 -3 -3 -1 -1 -3 -1 -2 -3 -1 -1 -2 -2 -1 -3 -3 -2 -4 \n",
    "Q -1  1  0  0 -3  5  2 -2  0 -3 -2  1  0 -3 -1  0 -1 -2 -1 -2  0  3 -1 -4 \n",
    "E -1  0  0  2 -4  2  5 -2  0 -3 -3  1 -2 -3 -1  0 -1 -3 -2 -2  1  4 -1 -4 \n",
    "G  0 -2  0 -1 -3 -2 -2  6 -2 -4 -4 -2 -3 -3 -2  0 -2 -2 -3 -3 -1 -2 -1 -4 \n",
    "H -2  0  1 -1 -3  0  0 -2  8 -3 -3 -1 -2 -1 -2 -1 -2 -2  2 -3  0  0 -1 -4 \n",
    "I -1 -3 -3 -3 -1 -3 -3 -4 -3  4  2 -3  1  0 -3 -2 -1 -3 -1  3 -3 -3 -1 -4 \n",
    "L -1 -2 -3 -4 -1 -2 -3 -4 -3  2  4 -2  2  0 -3 -2 -1 -2 -1  1 -4 -3 -1 -4 \n",
    "K -1  2  0 -1 -3  1  1 -2 -1 -3 -2  5 -1 -3 -1  0 -1 -3 -2 -2  0  1 -1 -4 \n",
    "M -1 -1 -2 -3 -1  0 -2 -3 -2  1  2 -1  5  0 -2 -1 -1 -1 -1  1 -3 -1 -1 -4 \n",
    "F -2 -3 -3 -3 -2 -3 -3 -3 -1  0  0 -3  0  6 -4 -2 -2  1  3 -1 -3 -3 -1 -4 \n",
    "P -1 -2 -2 -1 -3 -1 -1 -2 -2 -3 -3 -1 -2 -4  7 -1 -1 -4 -3 -2 -2 -1 -2 -4 \n",
    "S  1 -1  1  0 -1  0  0  0 -1 -2 -2  0 -1 -2 -1  4  1 -3 -2 -2  0  0  0 -4 \n",
    "T  0 -1  0 -1 -1 -1 -1 -2 -2 -1 -1 -1 -1 -2 -1  1  5 -2 -2  0 -1 -1  0 -4 \n",
    "W -3 -3 -4 -4 -2 -2 -3 -2 -2 -3 -2 -3 -1  1 -4 -3 -2 11  2 -3 -4 -3 -2 -4 \n",
    "Y -2 -2 -2 -3 -2 -1 -2 -3  2 -1 -1 -2 -1  3 -3 -2 -2  2  7 -1 -3 -2 -1 -4 \n",
    "V  0 -3 -3 -3 -1 -2 -2 -3 -3  3  1 -2  1 -1 -2 -2  0 -3 -1  4 -3 -2 -1 -4 \n",
    "B -2 -1  3  4 -3  0  1 -1  0 -3 -4  0 -3 -3 -2  0 -1 -4 -3 -3  4  1 -1 -4 \n",
    "Z -1  0  0  1 -3  3  4 -2  0 -3 -3  1 -1 -3 -1  0 -1 -3 -2 -2  1  4 -1 -4 \n",
    "X  0 -1 -1 -1 -2 -1 -1 -1 -1 -1 -1 -1 -1 -1 -2  0  0 -2 -1 -1 -1 -1 -1 -4 \n",
    "* -4 -4 -4 -4 -4 -4 -4 -4 -4 -4 -4 -4 -4 -4 -4 -4 -4 -4 -4 -4 -4 -4 -4  1\n",
    "'''\n",
    "legend = [c if c != '*' else '-' for c in b62.splitlines()[1].split()]\n",
    "#legend"
   ]
  },
  {
   "cell_type": "code",
   "execution_count": 11,
   "metadata": {},
   "outputs": [],
   "source": [
    "blos62 = dict()\n",
    "\n",
    "for line in b62.splitlines()[2:]:\n",
    "    spl = line.split()\n",
    "    key = spl.pop(0)\n",
    "    if key == '*':\n",
    "        key = '-'\n",
    "    blos62[key] = dict()\n",
    "    for i in range(len(spl)):\n",
    "        blos62[key][legend[i]] = int(spl[i]) if spl[i] != '*' else '-'\n",
    "    \n",
    "#blos62"
   ]
  },
  {
   "cell_type": "code",
   "execution_count": 12,
   "metadata": {},
   "outputs": [],
   "source": [
    "aniridia = '''\n",
    "MQNSHSGVNQLGGVFVNGRPLPDSTRQKIVELAHSGARPCDISRILQVSNGCVSKILGRY\n",
    "YETGSIRPRAIGGSKPRVATPEVVSKIAQYKRECPSIFAWEIRDRLLSEGVCTNDNIPSV\n",
    "SSINRVLRNLASEKQQMGADGMYDKLRMLNGQTGSWGTRPGWYPGTSVPGQPTQDGCQQQ\n",
    "EGGGENTNSISSNGEDSDEAQMRLQLKRKLQRNRTSFTQEQIEALEKEFERTHYPDVFAR\n",
    "ERLAAKIDLPEARIQVWFSNRRAKWRREEKLRNQRRQASNTPSHIPISSSFSTSVYQPIP\n",
    "QPTTPVSSFTSGSMLGRTDTALTNTYSALPPMPSFTMANNLPMQPPVPSQTSSYSCMLPT\n",
    "SPSVNGRSYDTYTPPHMQTHMNSQPMGTSGTTSTGLISPGVSVPVQVPGSEPDMSQYWPR\n",
    "LQ\n",
    "'''.replace('\\n', '')\n",
    "\n",
    "eyeless = '''\n",
    "MRNLPCLGTAGGSGLGGIAGKPSPTMEAVEASTASHRHSTSSYFATTYYHLTDDECHSGV\n",
    "NQLGGVFVGGRPLPDSTRQKIVELAHSGARPCDISRILQVSNGCVSKILGRYYETGSIRP\n",
    "RAIGGSKPRVATAEVVSKISQYKRECPSIFAWEIRDRLLQENVCTNDNIPSVSSINRVLR\n",
    "NLAAQKEQQSTGSGSSSTSAGNSISAKVSVSIGGNVSNVASGSRGTLSSSTDLMQTATPL\n",
    "NSSESGGASNSGEGSEQEAIYEKLRLLNTQHAAGPGPLEPARAAPLVGQSPNHLGTRSSH\n",
    "PQLVHGNHQALQQHQQQSWPPRHYSGSWYPTSLSEIPISSAPNIASVTAYASGPSLAHSL\n",
    "SPPNDIESLASIGHQRNCPVATEDIHLKKELDGHQSDETGSGEGENSNGGASNIGNTEDD\n",
    "QARLILKRKLQRNRTSFTNDQIDSLEKEFERTHYPDVFARERLAGKIGLPEARIQVWFSN\n",
    "RRAKWRREEKLRNQRRTPNSTGASATSSSTSATASLTDSPNSLSACSSLLSGSAGGPSVS\n",
    "TINGLSSPSTLSTNVNAPTLGAGIDSSESPTPIPHIRPSCTSDNDNGRQSEDCRRVCSPC\n",
    "PLGVGGHQNTHHIQSNGHAQGHALVPAISPRLNFNSGSFGAMYSNMHHTALSMSDSYGAV\n",
    "TPIPSFNHSAVGPLAPPSPIPQQGDLTPSSLYPCHMTLRPPPMAPAHHHIVPGDGGRPAG\n",
    "VGLGSGQSANLGASCSGSGYEVLSAYALPPPPMASSSAADSSFSAASSASANVTPHHTIA\n",
    "QESCPSPCSSASHFGVAHSSGFSSDPISPAVSSYAHMSYNYASSANTMTPSSASGTSAHV\n",
    "APGKQQFFASCFYSPWV\n",
    "'''.replace('\\n', '')"
   ]
  },
  {
   "cell_type": "code",
   "execution_count": 13,
   "metadata": {},
   "outputs": [],
   "source": [
    "aniridia_aligned, eyeless_aligned, an_vs_ey_score = local_alignment(aniridia, eyeless, blos62)"
   ]
  },
  {
   "cell_type": "code",
   "execution_count": 14,
   "metadata": {},
   "outputs": [
    {
     "name": "stdout",
     "output_type": "stream",
     "text": [
      "HSGVNQLGGVFVNGRPLPDSTRQKIVELAHSGARPCDISRILQVSNGCVSKILGRYYETGSIRPRAIGGSKPRVATPEVVSKIAQYKRECPSIFAWEIRDRLLSEGVCTNDNIPSVSSINRVLRNLASEKQQMGADGMYDKLRMLNGQTGSWGTRPGWYPGTSVPGQPTQDGCQQQEGGGENTNSISSNGEDSDEAQMRLQLKRKLQRNRTSFTQEQIEAL-EK-EFERT-H-Y-PDVFARERLAAKI-DLPEARIQVWFSNRRAKWRREEKLRNQRRQASNTPSHIPISSSFSTSVYQ-PIPQ-PT-TPVSSFTSGSMLGRTDTALTNTYSAL\n",
      "\n",
      "HSGVNQLGGVFVGGRPLPDSTRQKIVELAHSGARPCDISRILQVSNGCVSKILGRYYETGSIRPRAIGGSKPRVATAEVVSKISQYKRECPSIFAWEIRDRLLQENVCTNDNIPSVSSINRVLRNLAAQKEQQ-STG---S-G--SSST-SAGNSISAKVSVSIGGN-VSN-V---ASGSRGT--LSSS-TDLMQTATPLNSSESGGASNSGEGSEQ-EAIYEKLRLLNTQHAAGPGPLEPARAAPLVGQSPN-HLGTRSSHPQLVHGNHQALQ-QHQQQSWPPRHYS-GSWYPTSLSEIPISSAPNIASVTAYASGPSLAHS-LSPPNDIESL\n",
      "\n",
      "score: 171207.0\n"
     ]
    }
   ],
   "source": [
    "print(f'{aniridia_aligned}\\n\\n{eyeless_aligned}\\n\\nscore: {an_vs_ey_score}')"
   ]
  },
  {
   "cell_type": "code",
   "execution_count": 15,
   "metadata": {},
   "outputs": [],
   "source": [
    "def show_pairing(seq1, seq2, printlength=80):\n",
    "    assert len(seq1) == len(seq2)\n",
    "    line1 = str()\n",
    "    line2 = str()\n",
    "    line3 = str()\n",
    "    for i in range(len(seq1)):\n",
    "        line1 = line1 + seq1[i]\n",
    "        line2 = line2 + (' ' if seq1[i] == seq2[i] else 'X')\n",
    "        line3 = line3 + seq2[i]\n",
    "        \n",
    "        if len(line1) != 0 and len(line1) > printlength:\n",
    "            print(line1)\n",
    "            print(line2)\n",
    "            print(line3)\n",
    "            print()\n",
    "            line1 = ''\n",
    "            line2 = ''\n",
    "            line3 = ''"
   ]
  },
  {
   "cell_type": "code",
   "execution_count": 16,
   "metadata": {},
   "outputs": [
    {
     "name": "stdout",
     "output_type": "stream",
     "text": [
      "HSGVNQLGGVFVNGRPLPDSTRQKIVELAHSGARPCDISRILQVSNGCVSKILGRYYETGSIRPRAIGGSKPRVATPEVVS\n",
      "            X                                                               X    \n",
      "HSGVNQLGGVFVGGRPLPDSTRQKIVELAHSGARPCDISRILQVSNGCVSKILGRYYETGSIRPRAIGGSKPRVATAEVVS\n",
      "\n",
      "KIAQYKRECPSIFAWEIRDRLLSEGVCTNDNIPSVSSINRVLRNLASEKQQMGADGMYDKLRMLNGQTGSWGTRPGWYPGT\n",
      "  X                   X X                     XX X XXXX XXXXXXXXXXX X X XXXXXXXXX\n",
      "KISQYKRECPSIFAWEIRDRLLQENVCTNDNIPSVSSINRVLRNLAAQKEQQ-STG---S-G--SSST-SAGNSISAKVSV\n",
      "\n",
      "SVPGQPTQDGCQQQEGGGENTNSISSNGEDSDEAQMRLQLKRKLQRNRTSFTQEQIEAL-EK-EFERT-H-Y-PDVFARER\n",
      " XX XXXXXXXXXXXX XXX XXX  XXX XXXXXXX XXXXXXXXXXXXXXX  X  XX  XXXXX X XXX XXXXXX \n",
      "SIGGN-VSN-V---ASGSRGT--LSSS-TDLMQTATPLNSSESGGASNSGEGSEQ-EAIYEKLRLLNTQHAAGPGPLEPAR\n",
      "\n",
      "LAAKI-DLPEARIQVWFSNRRAKWRREEKLRNQRRQASNTPSHIPISSSFSTSVYQ-PIPQ-PT-TPVSSFTSGSMLGRTD\n",
      "X XXXXXX XXXXXXXX XXXXXXXXXXX XX XX X XX X XXXX XXX  XXXX  XXX XXXX XXXX  XX XXXX\n",
      "AAPLVGQSPN-HLGTRSSHPQLVHGNHQALQ-QHQQQSWPPRHYS-GSWYPTSLSEIPISSAPNIASVTAYASGPSLAHS-\n",
      "\n"
     ]
    }
   ],
   "source": [
    "show_pairing(aniridia_aligned, eyeless_aligned)"
   ]
  },
  {
   "cell_type": "code",
   "execution_count": 17,
   "metadata": {},
   "outputs": [
    {
     "name": "stdout",
     "output_type": "stream",
     "text": [
      "0: 5932.0, 1: 7317.0, 2: 10918.0, 3: 5322.0, 4: 4390.0, 5: 5381.0, 6: 18562.0, \n",
      "7: 4593.0, 8: 16134.0, 9: 10402.0, 10: 8032.0, 11: 12470.0, 12: 4942.0, \n",
      "13: 8614.0, 14: 7261.0, 15: 3876.0, 16: 4757.0, 17: 4758.0, 18: 4609.0, \n",
      "19: 2753.0, 20: 1804.0, 21: 5519.0, 22: 5902.0, 23: 5976.0, 24: 7470.0, \n",
      "25: 6720.0, 26: 10400.0, 27: 6815.0, 28: 7477.0, 29: 3760.0, 30: 5982.0, \n",
      "31: 1725.0, 32: 1979.0, 33: 9495.0, 34: 2417.0, 35: 8567.0, 36: 8945.0, \n",
      "37: 4169.0, 38: 6714.0, 39: 12427.0, 40: 11275.0, 41: 10328.0, 42: 2524.0, \n",
      "43: 14856.0, 44: 4233.0, 45: 13239.0, 46: 715.0, 47: 4370.0, 48: 1648.0, \n",
      "49: 9982.0, 50: 3864.0, 51: 2659.0, 52: 3120.0, 53: 4243.0, 54: 2149.0, \n",
      "55: 2734.0, 56: 2378.0, 57: 3465.0, 58: 10026.0, 59: 12944.0, 60: 3119.0, \n",
      "61: 13280.0, 62: 5444.0, 63: 3792.0, 64: 1603.0, 65: 5493.0, 66: 7659.0, \n",
      "67: 6054.0, 68: 3867.0, 69: 3201.0, 70: 1856.0, 71: 4281.0, 72: 7860.0, \n",
      "73: 11949.0, 74: 18169.0, 75: 9621.0, 76: 3826.0, 77: 4198.0, 78: 6677.0, \n",
      "79: 9784.0, 80: 5018.0, 81: 4347.0, 82: 738.0, 83: 5779.0, 84: 8719.0, \n",
      "85: 8252.0, 86: 5975.0, 87: 2109.0, 88: 8916.0, 89: 1585.0, 90: 5180.0, \n",
      "91: 6078.0, 92: 5663.0, 93: 9660.0, 94: 3720.0, 95: 1795.0, 96: 3010.0, \n",
      "97: 15274.0, 98: 18247.0, 99: 3160.0, "
     ]
    }
   ],
   "source": [
    "l = len(aniridia)\n",
    "chars = list(set(aniridia))\n",
    "random_scores = []\n",
    "\n",
    "for i in range(100):\n",
    "    u = ''.join([random.choice(chars) for i in range(l)])\n",
    "    _, _, score = local_alignment(u, eyeless, blos62)\n",
    "    random_scores.append(score)\n",
    "    print(f'{i}: {score}, ', end='')\n",
    "    if i % 6 == 0 and i != 0:\n",
    "        print()\n"
   ]
  },
  {
   "cell_type": "code",
   "execution_count": 18,
   "metadata": {},
   "outputs": [
    {
     "data": {
      "text/plain": [
       "(6509.96, 4075.423391080448)"
      ]
     },
     "execution_count": 18,
     "metadata": {},
     "output_type": "execute_result"
    }
   ],
   "source": [
    "import statistics\n",
    "\n",
    "statistics.mean(random_scores), statistics.stdev(random_scores)"
   ]
  },
  {
   "cell_type": "code",
   "execution_count": 19,
   "metadata": {},
   "outputs": [
    {
     "name": "stdout",
     "output_type": "stream",
     "text": [
      "Our alignment score is highly signifigant at the 1.9508292694108273e-63 p-value, (test statistic: 40.21169439135391, degrees of freedom: 99.0)\n"
     ]
    }
   ],
   "source": [
    "from statsmodels.stats.weightstats import ttest_ind\n",
    "import statsmodels\n",
    "\n",
    "tstat, pval, df = statsmodels.stats.weightstats.ttest_ind([an_vs_ey_score], random_scores, alternative='larger')\n",
    "print(f'Our alignment score is highly signifigant at the {pval} p-value, (test statistic: {tstat}, degrees of freedom: {df})')"
   ]
  },
  {
   "cell_type": "code",
   "execution_count": null,
   "metadata": {},
   "outputs": [],
   "source": []
  }
 ],
 "metadata": {
  "kernelspec": {
   "display_name": "Python 3",
   "language": "python",
   "name": "python3"
  },
  "language_info": {
   "codemirror_mode": {
    "name": "ipython",
    "version": 3
   },
   "file_extension": ".py",
   "mimetype": "text/x-python",
   "name": "python",
   "nbconvert_exporter": "python",
   "pygments_lexer": "ipython3",
   "version": "3.6.4"
  }
 },
 "nbformat": 4,
 "nbformat_minor": 2
}
