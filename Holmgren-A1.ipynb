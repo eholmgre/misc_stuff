{
 "cells": [
  {
   "cell_type": "markdown",
   "metadata": {},
   "source": [
    "# Erik Holmgren\n",
    "## 2018-09-18\n",
    "## CS 425: Assignment 1\n",
    "## Dr. Hamid Chitsaz"
   ]
  },
  {
   "cell_type": "code",
   "execution_count": 2,
   "metadata": {},
   "outputs": [],
   "source": [
    "import numpy as np"
   ]
  },
  {
   "cell_type": "markdown",
   "metadata": {},
   "source": [
    "### Global alignment with limited gaps"
   ]
  },
  {
   "cell_type": "code",
   "execution_count": 19,
   "metadata": {},
   "outputs": [],
   "source": [
    "def global_alignment(u, v, delta, k=-1):\n",
    "    u = u.upper()\n",
    "    v = v.upper()\n",
    "    n = len(u)\n",
    "    m = len(v)\n",
    "    f = np.zeros((n + 1, m + 1))\n",
    "    d = np.zeros((n + 1, m + 1), dtype=str)\n",
    "\n",
    "\n",
    "    def scoref(i, j):\n",
    "        vals = []\n",
    "        vals.append((f[i - 1, j - 1] + delta[u[i - 1]][v[j - 1]], 'd'))\n",
    "        vals.append((f[i - 1, j] + delta[u[i - 1]]['-'], 'l'))\n",
    "        vals.append((f[i, j - 1] + delta['-'][v[j - 1]], 'u'))\n",
    "\n",
    "        return  max(vals, key=lambda x: x[0])\n",
    "\n",
    "\n",
    "    for i in range(1, n + 1):\n",
    "        f[i, 0] = -1 * i\n",
    "\n",
    "    for j in range(1, m + 1):\n",
    "        f[0, j] = -1 * j\n",
    "\n",
    "    d[0, 1:] = 'l'\n",
    "    d[1:, 0] = 'u'\n",
    "\n",
    "    for i in range(1, n + 1):\n",
    "        for j in range(1, m + 1):\n",
    "            f[i, j], d[i, j] = scoref(i, j)\n",
    "\n",
    "    u_aligned = []\n",
    "    v_aligned = []\n",
    "    \n",
    "    if k == -1:\n",
    "        k = float('inf')\n",
    "\n",
    "    u_gap_count = k\n",
    "    v_gap_count = k\n",
    "\n",
    "    score = 0\n",
    "    i = n\n",
    "    j = m\n",
    "    dirr = d[i, j]\n",
    "    while i > 0 or j > 0:\n",
    "        if dirr == 'l' and u_gap_count > 0:\n",
    "            u_aligned.insert(0, '-')\n",
    "            v_aligned.insert(0, v[j - 1])\n",
    "            j -= 1\n",
    "            u_gap_count -= 1\n",
    "        elif dirr == 'u' and v_gap_count > 0:\n",
    "            u_aligned.insert(0, u[i - 1])\n",
    "            v_aligned.insert(0, '-')\n",
    "            i -= 1\n",
    "            v_gap_count -= 1\n",
    "        else: # dirr == 'd':\n",
    "            u_aligned.insert(0, u[i - 1])\n",
    "            v_aligned.insert(0, v[j - 1])\n",
    "            i -= 1\n",
    "            j -= 1\n",
    "            u_gap_count = k\n",
    "            v_gap_count = k\n",
    "\n",
    "        score += f[i, j]\n",
    "        dirr = d[i, j]\n",
    "\n",
    "    return ''.join(u_aligned), ''.join(v_aligned), score"
   ]
  },
  {
   "cell_type": "code",
   "execution_count": 20,
   "metadata": {},
   "outputs": [],
   "source": [
    "global_match = 1\n",
    "global_sigma = -1\n",
    "global_mu = -2\n",
    "\n",
    "global_score_matrix = {\n",
    "    'A' : {'A' : global_match, 'T': global_mu, 'C' : global_mu, 'G' : global_mu, '-': global_sigma},\n",
    "    'T' : {'A' : global_mu, 'T': global_match, 'C' : global_mu, 'G' : global_mu, '-': global_sigma},\n",
    "    'C' : {'A' : global_mu, 'T': global_mu, 'C' : global_match, 'G' : global_mu, '-': global_sigma},\n",
    "    'G' : {'A' : global_mu, 'T': global_mu, 'C' : global_mu, 'G' : global_match, '-': global_sigma},\n",
    "    '-' : {'A' : global_sigma, 'T': global_sigma, 'C' : global_sigma, 'G' : global_sigma, '-': None},\n",
    "}"
   ]
  },
  {
   "cell_type": "code",
   "execution_count": 21,
   "metadata": {},
   "outputs": [],
   "source": [
    "import random\n",
    "\n",
    "def randomDNA(length):\n",
    "    nucs = ['A', 'C', 'T', 'G']\n",
    "    return ''.join([random.choice(nucs) for i in range(length)])"
   ]
  },
  {
   "cell_type": "code",
   "execution_count": 24,
   "metadata": {},
   "outputs": [
    {
     "name": "stdout",
     "output_type": "stream",
     "text": [
      "ATTAACTT-T-CC-CGTGG-GGTAAGG--T-\n",
      "---G---GCAACATCGTCCTGCCCCGGAAAG\n",
      "score: -270.0\n",
      "\n",
      "ATTAACTT-T-CC-CGTGG-GGTAAGG--T-\n",
      "AA--G--GCAACATCGTCCTGCCCCGGAAAG\n",
      "score: -279.0\n",
      "\n",
      "ATTAACTT-T-CC-CGTGG-GGTAA-GG-T-\n",
      "AA-A-G-GCAACATCGTCCTGCCCCGGAAAG\n",
      "score: -282.0\n",
      "\n",
      "ATTAACTTTCCCGTGGGGTAAGGT\n",
      "GCAACATCGTCCTGCCCCGGAAAG\n",
      "score: -108.0\n",
      "\n",
      "ATTAACTT-T-CC-CGTGG-GGTAAGG--T-\n",
      "-------GCAACATCGTCCTGCCCCGGAAAG\n",
      "score: -192.0\n",
      "\n"
     ]
    }
   ],
   "source": [
    "u = randomDNA(24)\n",
    "v = randomDNA(24)\n",
    "\n",
    "w, x, score = global_alignment(u, v, global_score_matrix, k=3)\n",
    "print(f'{w}\\n{x}\\nscore: {score}\\n')\n",
    "\n",
    "w, x, score = global_alignment(u, v, global_score_matrix, k=2)\n",
    "print(f'{w}\\n{x}\\nscore: {score}\\n')\n",
    "\n",
    "w, x, score = global_alignment(u, v, global_score_matrix, k=1)\n",
    "print(f'{w}\\n{x}\\nscore: {score}\\n')\n",
    "\n",
    "w, x, score = global_alignment(u, v, global_score_matrix, k=0)\n",
    "print(f'{w}\\n{x}\\nscore: {score}\\n')\n",
    "\n",
    "w, x, score = global_alignment(u, v, global_score_matrix, k=-1)\n",
    "print(f'{w}\\n{x}\\nscore: {score}\\n')"
   ]
  },
  {
   "cell_type": "markdown",
   "metadata": {},
   "source": [
    "### Semi-global Alignment"
   ]
  },
  {
   "cell_type": "code",
   "execution_count": 7,
   "metadata": {},
   "outputs": [],
   "source": [
    "def semi_global_alignment(u, v, delta):\n",
    "    u = u.upper()\n",
    "    v = v.upper()\n",
    "\n",
    "    n, m = len(u), len(v)\n",
    "\n",
    "    f = np.zeros((n + 1, m + 1))\n",
    "    d = np.zeros((n + 1, m + 1), dtype=str)\n",
    "\n",
    "    def score(i, j):\n",
    "        vals = []\n",
    "        vals.append((f[i - 1, j - 1] + delta[u[i - 1]][v[j - 1]], 'd'))\n",
    "        vals.append((f[i - 1, j] + delta[u[i - 1]]['-'], 'l'))\n",
    "        vals.append((f[i, j - 1] + delta['-'][v[j - 1]], 'u'))\n",
    "\n",
    "        return max(vals, key=lambda x: x[0])\n",
    "\n",
    "\n",
    "    for i in range(1, n + 1):\n",
    "        f[i, 0] = -1 * i\n",
    "\n",
    "    d[0, 1:] = 'l'\n",
    "    d[1:,0] = 'u'\n",
    "\n",
    "    for i in range(1, n + 1):\n",
    "        for j in range(1, m + 1):\n",
    "            f[i, j], d[i, j] = score(i, j)\n",
    "\n",
    "\n",
    "    u_aligned = []\n",
    "    v_aligned = []\n",
    "\n",
    "    score = 0\n",
    "    i = n\n",
    "    j = m\n",
    "\n",
    "    max_row = (f[0, m], 0)\n",
    "    for c in range(n):\n",
    "        if f[c, m] > max_row[0]:\n",
    "            max_row = f[c, m], c\n",
    "\n",
    "    i = max_row[1]\n",
    "\n",
    "    for c in range(n - 1, i - 1, -1):\n",
    "        u_aligned.insert(0, u[c])\n",
    "        v_aligned.insert(0, '-')\n",
    "\n",
    "    dirr = d[i, j]\n",
    "    while i > 0 or j > 0:\n",
    "        if dirr == 'd':\n",
    "            u_aligned.insert(0, u[i - 1])\n",
    "            v_aligned.insert(0, v[j - 1])\n",
    "            i -= 1\n",
    "            j -= 1\n",
    "        elif dirr == 'l':\n",
    "            u_aligned.insert(0, '-')\n",
    "            v_aligned.insert(0, v[j - 1])\n",
    "            j -= 1\n",
    "        elif dirr == 'u':\n",
    "            u_aligned.insert(0, u[i - 1])\n",
    "            v_aligned.insert(0, '-')\n",
    "            i -= 1\n",
    "\n",
    "        score += f[i, j]\n",
    "        dirr = d[i, j]\n",
    "\n",
    "    return ''.join(u_aligned), ''.join(v_aligned), score"
   ]
  },
  {
   "cell_type": "code",
   "execution_count": 8,
   "metadata": {},
   "outputs": [
    {
     "name": "stdout",
     "output_type": "stream",
     "text": [
      "CAGCA-CTTGGATTCTCGG\n",
      "---CAGCGTGG--------\n",
      "score: -3.0\n"
     ]
    }
   ],
   "source": [
    "u = 'CAGCACTTGGATTCTCGG'\n",
    "v = 'CAGCGTGG'\n",
    "\n",
    "u, v, score = semi_global_alignment(u, v, global_score_matrix)\n",
    "\n",
    "print(f'{u}\\n{v}\\nscore: {score}')"
   ]
  },
  {
   "cell_type": "markdown",
   "metadata": {},
   "source": [
    "## Local Alignment"
   ]
  },
  {
   "cell_type": "code",
   "execution_count": 9,
   "metadata": {},
   "outputs": [],
   "source": [
    "def local_alignment(u, v, delta):\n",
    "    u = u.upper()\n",
    "    v = v.upper()\n",
    "    \n",
    "    n, m = len(u), len(v)\n",
    "    f = np.zeros((n + 1, m + 1))\n",
    "    d = np.zeros((n + 1, m + 1), dtype=str)\n",
    "    \n",
    "    def score(i, j):\n",
    "        vals = []\n",
    "        #vals.append((f[i - 1, j - 1] + delta[u[i - 1]][v[j - 1]], 'd'))\n",
    "        #vals.append((max([f[i - k, j] + (k * delta[u[i - 1]]['-']) for k in range(1, i + 1)]), 'u'))\n",
    "        #vals.append((max([f[i, j - k] + (k * delta['-'][v[j - 1]]) for k in range(1, j + 1)]), 'l'))\n",
    "        \n",
    "        vals.append((f[i - 1, j - 1] + delta[u[i - 1]][v[j - 1]], 'd'))\n",
    "        vals.append((f[i, j - 1] + delta['-'][v[j - 1]], 'l'))\n",
    "        vals.append((f[i - 1, j] + delta[u[i - 1]]['-'], 'u'))\n",
    "        \n",
    "        best = max(vals, key= lambda x: x[0])\n",
    "        \n",
    "        if best[0] < 0:\n",
    "            return 0, best[1]\n",
    "        \n",
    "        return best\n",
    "\n",
    "    \n",
    "    d[0, 1:] = 'l'\n",
    "    d[1:,0] = 'u'\n",
    "    \n",
    "    best_yet = (0, 0, 0)\n",
    "    for i in range (1, n + 1):\n",
    "        for j in range(1, m + 1):\n",
    "            f[i, j], d[i, j] = score(i, j)\n",
    "            if f[i, j] > best_yet[0]:\n",
    "                best_yet = (f[i, j], i, j)\n",
    "            \n",
    "    u_aligned = []\n",
    "    v_aligned = []\n",
    "    \n",
    "    score = 0\n",
    "    _, i, j = best_yet\n",
    "    dirr = d[i, j]\n",
    "    while i > 0 or j > 0:\n",
    "        if f[i, j] == 0:\n",
    "            break\n",
    "        if dirr == 'd':\n",
    "            u_aligned.insert(0, u[i - 1])\n",
    "            v_aligned.insert(0, v[j - 1])\n",
    "            i -= 1\n",
    "            j -= 1\n",
    "        elif dirr == 'l':\n",
    "            u_aligned.insert(0, '-')\n",
    "            v_aligned.insert(0, v[j - 1])\n",
    "            j -= 1\n",
    "        elif dirr == 'u':\n",
    "            u_aligned.insert(0, u[i - 1])\n",
    "            v_aligned.insert(0, '-')\n",
    "            i -= 1\n",
    "            \n",
    "        score += f[i, j]\n",
    "        dirr = d[i, j]\n",
    "        \n",
    "    return ''.join(u_aligned), ''.join(v_aligned), score"
   ]
  },
  {
   "cell_type": "code",
   "execution_count": 10,
   "metadata": {},
   "outputs": [
    {
     "name": "stdout",
     "output_type": "stream",
     "text": [
      "GTT-AC\n",
      "GTTGAC\n",
      "score: 11.0\n"
     ]
    }
   ],
   "source": [
    "u = 'TGTTACGG'\n",
    "v = 'GGTTGACTA'\n",
    "\n",
    "u, v, score = local_alignment(u, v, global_score_matrix)\n",
    "\n",
    "print(f'{u}\\n{v}\\nscore: {score}')"
   ]
  },
  {
   "cell_type": "code",
   "execution_count": 11,
   "metadata": {},
   "outputs": [],
   "source": [
    "b62 = '''\n",
    "   A  R  N  D  C  Q  E  G  H  I  L  K  M  F  P  S  T  W  Y  V  B  Z  X  *\n",
    "A  4 -1 -2 -2  0 -1 -1  0 -2 -1 -1 -1 -1 -2 -1  1  0 -3 -2  0 -2 -1  0 -4 \n",
    "R -1  5  0 -2 -3  1  0 -2  0 -3 -2  2 -1 -3 -2 -1 -1 -3 -2 -3 -1  0 -1 -4 \n",
    "N -2  0  6  1 -3  0  0  0  1 -3 -3  0 -2 -3 -2  1  0 -4 -2 -3  3  0 -1 -4 \n",
    "D -2 -2  1  6 -3  0  2 -1 -1 -3 -4 -1 -3 -3 -1  0 -1 -4 -3 -3  4  1 -1 -4 \n",
    "C  0 -3 -3 -3  9 -3 -4 -3 -3 -1 -1 -3 -1 -2 -3 -1 -1 -2 -2 -1 -3 -3 -2 -4 \n",
    "Q -1  1  0  0 -3  5  2 -2  0 -3 -2  1  0 -3 -1  0 -1 -2 -1 -2  0  3 -1 -4 \n",
    "E -1  0  0  2 -4  2  5 -2  0 -3 -3  1 -2 -3 -1  0 -1 -3 -2 -2  1  4 -1 -4 \n",
    "G  0 -2  0 -1 -3 -2 -2  6 -2 -4 -4 -2 -3 -3 -2  0 -2 -2 -3 -3 -1 -2 -1 -4 \n",
    "H -2  0  1 -1 -3  0  0 -2  8 -3 -3 -1 -2 -1 -2 -1 -2 -2  2 -3  0  0 -1 -4 \n",
    "I -1 -3 -3 -3 -1 -3 -3 -4 -3  4  2 -3  1  0 -3 -2 -1 -3 -1  3 -3 -3 -1 -4 \n",
    "L -1 -2 -3 -4 -1 -2 -3 -4 -3  2  4 -2  2  0 -3 -2 -1 -2 -1  1 -4 -3 -1 -4 \n",
    "K -1  2  0 -1 -3  1  1 -2 -1 -3 -2  5 -1 -3 -1  0 -1 -3 -2 -2  0  1 -1 -4 \n",
    "M -1 -1 -2 -3 -1  0 -2 -3 -2  1  2 -1  5  0 -2 -1 -1 -1 -1  1 -3 -1 -1 -4 \n",
    "F -2 -3 -3 -3 -2 -3 -3 -3 -1  0  0 -3  0  6 -4 -2 -2  1  3 -1 -3 -3 -1 -4 \n",
    "P -1 -2 -2 -1 -3 -1 -1 -2 -2 -3 -3 -1 -2 -4  7 -1 -1 -4 -3 -2 -2 -1 -2 -4 \n",
    "S  1 -1  1  0 -1  0  0  0 -1 -2 -2  0 -1 -2 -1  4  1 -3 -2 -2  0  0  0 -4 \n",
    "T  0 -1  0 -1 -1 -1 -1 -2 -2 -1 -1 -1 -1 -2 -1  1  5 -2 -2  0 -1 -1  0 -4 \n",
    "W -3 -3 -4 -4 -2 -2 -3 -2 -2 -3 -2 -3 -1  1 -4 -3 -2 11  2 -3 -4 -3 -2 -4 \n",
    "Y -2 -2 -2 -3 -2 -1 -2 -3  2 -1 -1 -2 -1  3 -3 -2 -2  2  7 -1 -3 -2 -1 -4 \n",
    "V  0 -3 -3 -3 -1 -2 -2 -3 -3  3  1 -2  1 -1 -2 -2  0 -3 -1  4 -3 -2 -1 -4 \n",
    "B -2 -1  3  4 -3  0  1 -1  0 -3 -4  0 -3 -3 -2  0 -1 -4 -3 -3  4  1 -1 -4 \n",
    "Z -1  0  0  1 -3  3  4 -2  0 -3 -3  1 -1 -3 -1  0 -1 -3 -2 -2  1  4 -1 -4 \n",
    "X  0 -1 -1 -1 -2 -1 -1 -1 -1 -1 -1 -1 -1 -1 -2  0  0 -2 -1 -1 -1 -1 -1 -4 \n",
    "* -4 -4 -4 -4 -4 -4 -4 -4 -4 -4 -4 -4 -4 -4 -4 -4 -4 -4 -4 -4 -4 -4 -4  1\n",
    "'''\n",
    "legend = [c if c != '*' else '-' for c in b62.splitlines()[1].split()]\n",
    "#legend"
   ]
  },
  {
   "cell_type": "code",
   "execution_count": 12,
   "metadata": {},
   "outputs": [],
   "source": [
    "blos62 = dict()\n",
    "\n",
    "for line in b62.splitlines()[2:]:\n",
    "    spl = line.split()\n",
    "    key = spl.pop(0)\n",
    "    if key == '*':\n",
    "        key = '-'\n",
    "    blos62[key] = dict()\n",
    "    for i in range(len(spl)):\n",
    "        blos62[key][legend[i]] = int(spl[i]) if spl[i] != '*' else '-'\n",
    "    \n",
    "#blos62"
   ]
  },
  {
   "cell_type": "code",
   "execution_count": 13,
   "metadata": {},
   "outputs": [],
   "source": [
    "aniridia = '''\n",
    "MQNSHSGVNQLGGVFVNGRPLPDSTRQKIVELAHSGARPCDISRILQVSNGCVSKILGRY\n",
    "YETGSIRPRAIGGSKPRVATPEVVSKIAQYKRECPSIFAWEIRDRLLSEGVCTNDNIPSV\n",
    "SSINRVLRNLASEKQQMGADGMYDKLRMLNGQTGSWGTRPGWYPGTSVPGQPTQDGCQQQ\n",
    "EGGGENTNSISSNGEDSDEAQMRLQLKRKLQRNRTSFTQEQIEALEKEFERTHYPDVFAR\n",
    "ERLAAKIDLPEARIQVWFSNRRAKWRREEKLRNQRRQASNTPSHIPISSSFSTSVYQPIP\n",
    "QPTTPVSSFTSGSMLGRTDTALTNTYSALPPMPSFTMANNLPMQPPVPSQTSSYSCMLPT\n",
    "SPSVNGRSYDTYTPPHMQTHMNSQPMGTSGTTSTGLISPGVSVPVQVPGSEPDMSQYWPR\n",
    "LQ\n",
    "'''.replace('\\n', '')\n",
    "\n",
    "eyeless = '''\n",
    "MRNLPCLGTAGGSGLGGIAGKPSPTMEAVEASTASHRHSTSSYFATTYYHLTDDECHSGV\n",
    "NQLGGVFVGGRPLPDSTRQKIVELAHSGARPCDISRILQVSNGCVSKILGRYYETGSIRP\n",
    "RAIGGSKPRVATAEVVSKISQYKRECPSIFAWEIRDRLLQENVCTNDNIPSVSSINRVLR\n",
    "NLAAQKEQQSTGSGSSSTSAGNSISAKVSVSIGGNVSNVASGSRGTLSSSTDLMQTATPL\n",
    "NSSESGGASNSGEGSEQEAIYEKLRLLNTQHAAGPGPLEPARAAPLVGQSPNHLGTRSSH\n",
    "PQLVHGNHQALQQHQQQSWPPRHYSGSWYPTSLSEIPISSAPNIASVTAYASGPSLAHSL\n",
    "SPPNDIESLASIGHQRNCPVATEDIHLKKELDGHQSDETGSGEGENSNGGASNIGNTEDD\n",
    "QARLILKRKLQRNRTSFTNDQIDSLEKEFERTHYPDVFARERLAGKIGLPEARIQVWFSN\n",
    "RRAKWRREEKLRNQRRTPNSTGASATSSSTSATASLTDSPNSLSACSSLLSGSAGGPSVS\n",
    "TINGLSSPSTLSTNVNAPTLGAGIDSSESPTPIPHIRPSCTSDNDNGRQSEDCRRVCSPC\n",
    "PLGVGGHQNTHHIQSNGHAQGHALVPAISPRLNFNSGSFGAMYSNMHHTALSMSDSYGAV\n",
    "TPIPSFNHSAVGPLAPPSPIPQQGDLTPSSLYPCHMTLRPPPMAPAHHHIVPGDGGRPAG\n",
    "VGLGSGQSANLGASCSGSGYEVLSAYALPPPPMASSSAADSSFSAASSASANVTPHHTIA\n",
    "QESCPSPCSSASHFGVAHSSGFSSDPISPAVSSYAHMSYNYASSANTMTPSSASGTSAHV\n",
    "APGKQQFFASCFYSPWV\n",
    "'''.replace('\\n', '')"
   ]
  },
  {
   "cell_type": "code",
   "execution_count": 14,
   "metadata": {},
   "outputs": [],
   "source": [
    "aniridia_aligned, eyeless_aligned, an_vs_ey_score = local_alignment(aniridia, eyeless, blos62)"
   ]
  },
  {
   "cell_type": "code",
   "execution_count": 15,
   "metadata": {},
   "outputs": [
    {
     "name": "stdout",
     "output_type": "stream",
     "text": [
      "HSGVNQLGGVFVNGRPLPDSTRQKIVELAHSGARPCDISRILQVSNGCVSKILGRYYETGSIRPRAIGGSKPRVATPEVVSKIAQYKRECPSIFAWEIRDRLLSEGVCTNDNIPSVSSINRVLRNLASEKQQMGADGMYDKLRMLNGQTGSWGTRPGWYPGTSVPGQPTQDGCQQQEGGGENTNSISSNGEDSDEAQMRLQLKRKLQRNRTSFTQEQIEAL-EK-EFERT-H-Y-PDVFARERLAAKI-DLPEARIQVWFSNRRAKWRREEKLRNQRRQASNTPSHIPISSSFSTSVYQ-PIPQ-PT-TPVSSFTSGSMLGRTDTALTNTYSAL\n",
      "\n",
      "HSGVNQLGGVFVGGRPLPDSTRQKIVELAHSGARPCDISRILQVSNGCVSKILGRYYETGSIRPRAIGGSKPRVATAEVVSKISQYKRECPSIFAWEIRDRLLQENVCTNDNIPSVSSINRVLRNLAAQKEQQ-STG---S-G--SSST-SAGNSISAKVSVSIGGN-VSN-V---ASGSRGT--LSSS-TDLMQTATPLNSSESGGASNSGEGSEQ-EAIYEKLRLLNTQHAAGPGPLEPARAAPLVGQSPN-HLGTRSSHPQLVHGNHQALQ-QHQQQSWPPRHYS-GSWYPTSLSEIPISSAPNIASVTAYASGPSLAHS-LSPPNDIESL\n",
      "\n",
      "score: 171207.0\n"
     ]
    }
   ],
   "source": [
    "print(f'{aniridia_aligned}\\n\\n{eyeless_aligned}\\n\\nscore: {an_vs_ey_score}')"
   ]
  },
  {
   "cell_type": "code",
   "execution_count": 16,
   "metadata": {},
   "outputs": [],
   "source": [
    "def show_pairing(seq1, seq2, printlength=80):\n",
    "    assert len(seq1) == len(seq2)\n",
    "    line1 = str()\n",
    "    line2 = str()\n",
    "    line3 = str()\n",
    "    for i in range(len(seq1)):\n",
    "        line1 = line1 + seq1[i]\n",
    "        line2 = line2 + (' ' if seq1[i] == seq2[i] else 'X')\n",
    "        line3 = line3 + seq2[i]\n",
    "        \n",
    "        if len(line1) != 0 and len(line1) > printlength:\n",
    "            print(line1)\n",
    "            print(line2)\n",
    "            print(line3)\n",
    "            print()\n",
    "            line1 = ''\n",
    "            line2 = ''\n",
    "            line3 = ''"
   ]
  },
  {
   "cell_type": "code",
   "execution_count": 17,
   "metadata": {},
   "outputs": [
    {
     "name": "stdout",
     "output_type": "stream",
     "text": [
      "HSGVNQLGGVFVNGRPLPDSTRQKIVELAHSGARPCDISRILQVSNGCVSKILGRYYETGSIRPRAIGGSKPRVATPEVVS\n",
      "            X                                                               X    \n",
      "HSGVNQLGGVFVGGRPLPDSTRQKIVELAHSGARPCDISRILQVSNGCVSKILGRYYETGSIRPRAIGGSKPRVATAEVVS\n",
      "\n",
      "KIAQYKRECPSIFAWEIRDRLLSEGVCTNDNIPSVSSINRVLRNLASEKQQMGADGMYDKLRMLNGQTGSWGTRPGWYPGT\n",
      "  X                   X X                     XX X XXXX XXXXXXXXXXX X X XXXXXXXXX\n",
      "KISQYKRECPSIFAWEIRDRLLQENVCTNDNIPSVSSINRVLRNLAAQKEQQ-STG---S-G--SSST-SAGNSISAKVSV\n",
      "\n",
      "SVPGQPTQDGCQQQEGGGENTNSISSNGEDSDEAQMRLQLKRKLQRNRTSFTQEQIEAL-EK-EFERT-H-Y-PDVFARER\n",
      " XX XXXXXXXXXXXX XXX XXX  XXX XXXXXXX XXXXXXXXXXXXXXX  X  XX  XXXXX X XXX XXXXXX \n",
      "SIGGN-VSN-V---ASGSRGT--LSSS-TDLMQTATPLNSSESGGASNSGEGSEQ-EAIYEKLRLLNTQHAAGPGPLEPAR\n",
      "\n",
      "LAAKI-DLPEARIQVWFSNRRAKWRREEKLRNQRRQASNTPSHIPISSSFSTSVYQ-PIPQ-PT-TPVSSFTSGSMLGRTD\n",
      "X XXXXXX XXXXXXXX XXXXXXXXXXX XX XX X XX X XXXX XXX  XXXX  XXX XXXX XXXX  XX XXXX\n",
      "AAPLVGQSPN-HLGTRSSHPQLVHGNHQALQ-QHQQQSWPPRHYS-GSWYPTSLSEIPISSAPNIASVTAYASGPSLAHS-\n",
      "\n"
     ]
    }
   ],
   "source": [
    "show_pairing(aniridia_aligned, eyeless_aligned)"
   ]
  },
  {
   "cell_type": "code",
   "execution_count": 18,
   "metadata": {},
   "outputs": [
    {
     "name": "stdout",
     "output_type": "stream",
     "text": [
      "0: 5284.0, 1: 2853.0, 2: 2851.0, 3: 4881.0, 4: 2345.0, 5: 8817.0, 6: 7016.0, \n",
      "7: 4541.0, 8: 6535.0, 9: 8949.0, 10: 5822.0, 11: 13154.0, 12: 6371.0, \n",
      "13: 3985.0, 14: 7932.0, 15: 5879.0, 16: 6218.0, 17: 2017.0, 18: 10960.0, \n",
      "19: 4409.0, 20: 7524.0, 21: 1521.0, 22: 5833.0, 23: 4862.0, 24: 4844.0, \n",
      "25: 12453.0, 26: 6061.0, 27: 4649.0, 28: 12911.0, 29: 6153.0, 30: 4049.0, \n",
      "31: 6395.0, 32: 12768.0, 33: 1832.0, 34: 2471.0, 35: 3537.0, 36: 4099.0, \n",
      "37: 8442.0, 38: 6696.0, 39: 5031.0, 40: 21162.0, 41: 12566.0, 42: 6843.0, \n",
      "43: 2336.0, 44: 769.0, 45: 3055.0, 46: 6488.0, 47: 5877.0, 48: 5257.0, \n",
      "49: 6783.0, 50: 10784.0, 51: 7596.0, 52: 8769.0, 53: 7737.0, 54: 7881.0, \n",
      "55: 11013.0, 56: 3160.0, 57: 4635.0, 58: 8178.0, 59: 14234.0, 60: 15347.0, \n",
      "61: 3570.0, 62: 10793.0, 63: 7160.0, 64: 5482.0, 65: 3854.0, 66: 4691.0, \n",
      "67: 17068.0, 68: 7994.0, 69: 10832.0, 70: 3232.0, 71: 3913.0, 72: 8622.0, \n",
      "73: 25234.0, 74: 5604.0, 75: 6554.0, 76: 16802.0, 77: 1423.0, 78: 5849.0, \n",
      "79: 3797.0, 80: 8547.0, 81: 10953.0, 82: 3406.0, 83: 4558.0, 84: 9948.0, \n",
      "85: 3830.0, 86: 3375.0, 87: 3715.0, 88: 3420.0, 89: 6681.0, 90: 6097.0, \n",
      "91: 3176.0, 92: 14579.0, 93: 4839.0, 94: 3945.0, 95: 1334.0, 96: 4356.0, \n",
      "97: 4425.0, 98: 2567.0, 99: 11956.0, "
     ]
    }
   ],
   "source": [
    "l = len(aniridia)\n",
    "chars = list(set(aniridia))\n",
    "random_scores = []\n",
    "\n",
    "for i in range(100):\n",
    "    u = ''.join([random.choice(chars) for i in range(l)])\n",
    "    _, _, score = local_alignment(u, eyeless, blos62)\n",
    "    random_scores.append(score)\n",
    "    print(f'{i}: {score}, ', end='')\n",
    "    if i % 6 == 0 and i != 0:\n",
    "        print()\n"
   ]
  },
  {
   "cell_type": "code",
   "execution_count": 16,
   "metadata": {},
   "outputs": [
    {
     "data": {
      "text/plain": [
       "(6814.19, 4042.8792112887454)"
      ]
     },
     "execution_count": 16,
     "metadata": {},
     "output_type": "execute_result"
    }
   ],
   "source": [
    "import statistics\n",
    "\n",
    "statistics.mean(random_scores), statistics.stdev(random_scores)"
   ]
  },
  {
   "cell_type": "code",
   "execution_count": 1,
   "metadata": {},
   "outputs": [
    {
     "ename": "NameError",
     "evalue": "name 'an_vs_ey_score' is not defined",
     "output_type": "error",
     "traceback": [
      "\u001b[0;31m---------------------------------------------------------------------------\u001b[0m",
      "\u001b[0;31mNameError\u001b[0m                                 Traceback (most recent call last)",
      "\u001b[0;32m<ipython-input-1-d385905fb150>\u001b[0m in \u001b[0;36m<module>\u001b[0;34m()\u001b[0m\n\u001b[1;32m      2\u001b[0m \u001b[0;32mimport\u001b[0m \u001b[0mstatsmodels\u001b[0m\u001b[0;34m\u001b[0m\u001b[0m\n\u001b[1;32m      3\u001b[0m \u001b[0;34m\u001b[0m\u001b[0m\n\u001b[0;32m----> 4\u001b[0;31m \u001b[0mtstat\u001b[0m\u001b[0;34m,\u001b[0m \u001b[0mpval\u001b[0m\u001b[0;34m,\u001b[0m \u001b[0mdf\u001b[0m \u001b[0;34m=\u001b[0m \u001b[0mstatsmodels\u001b[0m\u001b[0;34m.\u001b[0m\u001b[0mstats\u001b[0m\u001b[0;34m.\u001b[0m\u001b[0mweightstats\u001b[0m\u001b[0;34m.\u001b[0m\u001b[0mttest_ind\u001b[0m\u001b[0;34m(\u001b[0m\u001b[0;34m[\u001b[0m\u001b[0man_vs_ey_score\u001b[0m\u001b[0;34m]\u001b[0m\u001b[0;34m,\u001b[0m \u001b[0mrandom_scores\u001b[0m\u001b[0;34m,\u001b[0m \u001b[0malternative\u001b[0m\u001b[0;34m=\u001b[0m\u001b[0;34m'larger'\u001b[0m\u001b[0;34m)\u001b[0m\u001b[0;34m\u001b[0m\u001b[0m\n\u001b[0m\u001b[1;32m      5\u001b[0m \u001b[0mprint\u001b[0m\u001b[0;34m(\u001b[0m\u001b[0;34mf'Our alignment score is highly signifigant at the {pval} p-value, (test statistic: {tstat}, degrees of freedom: {df})'\u001b[0m\u001b[0;34m)\u001b[0m\u001b[0;34m\u001b[0m\u001b[0m\n",
      "\u001b[0;31mNameError\u001b[0m: name 'an_vs_ey_score' is not defined"
     ]
    }
   ],
   "source": [
    "from statsmodels.stats.weightstats import ttest_ind\n",
    "import statsmodels\n",
    "\n",
    "tstat, pval, df = statsmodels.stats.weightstats.ttest_ind([an_vs_ey_score], random_scores, alternative='larger')\n",
    "print(f'Our alignment score is highly signifigant at the {pval} p-value, (test statistic: {tstat}, degrees of freedom: {df})')"
   ]
  },
  {
   "cell_type": "code",
   "execution_count": null,
   "metadata": {},
   "outputs": [],
   "source": []
  }
 ],
 "metadata": {
  "kernelspec": {
   "display_name": "Python 3",
   "language": "python",
   "name": "python3"
  },
  "language_info": {
   "codemirror_mode": {
    "name": "ipython",
    "version": 3
   },
   "file_extension": ".py",
   "mimetype": "text/x-python",
   "name": "python",
   "nbconvert_exporter": "python",
   "pygments_lexer": "ipython3",
   "version": "3.6.4"
  }
 },
 "nbformat": 4,
 "nbformat_minor": 2
}
