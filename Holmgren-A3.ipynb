{
 "cells": [
  {
   "cell_type": "markdown",
   "metadata": {},
   "source": [
    "### Erik Holmgren\n",
    "2018-10-04  \n",
    "CS425: Assignment 3  \n",
    "Dr. Hamid Chitsaz  "
   ]
  },
  {
   "cell_type": "markdown",
   "metadata": {},
   "source": [
    "### 1:  Implementing the forward algorithm"
   ]
  },
  {
   "cell_type": "code",
   "execution_count": 3,
   "metadata": {},
   "outputs": [],
   "source": [
    "import numpy as np"
   ]
  },
  {
   "cell_type": "code",
   "execution_count": 4,
   "metadata": {},
   "outputs": [],
   "source": [
    "seq = [0.1, 0.3, 0.2, 0.4, 0.7, 0.9, 1, 1, 0.8, 0.9]\n",
    "states = ['r', 'o'] # r -> hyper, o -> hypo\n",
    "emissions = {0 : {'r' : 0.8, 'o' : 0.2}, 1 : {'r' : 0.2, 'o' : 0.8}}\n",
    "transitions = {'r' : {'r' : 0.9, 'o' : 0.1}, 'o' : {'r' : 0.1, 'o' : 0.9}, 's' : {'r' : 0.5, 'o' : 0.5}}"
   ]
  },
  {
   "cell_type": "code",
   "execution_count": 174,
   "metadata": {},
   "outputs": [],
   "source": [
    "def forward(X, Q, A, E):\n",
    "    \"\"\"\n",
    "    X - emission sequance\n",
    "    Q - state list\n",
    "    A - state transition matrix\n",
    "    E - emission probibility matrix\n",
    "    \"\"\"\n",
    "    \n",
    "    X = np.copy(np.round(X)) # we consider x in [0, .5] low and x in (.5, 1] high\n",
    "    \n",
    "    f = np.zeros((len(X), len(Q)))\n",
    "    \n",
    "    # initalize the first row to the inital probibility of state s times the emission\n",
    "    # probibillity of the first element of the sequane given state s for all states s\n",
    "    for r in range(len(Q)):\n",
    "        f[0, r] = A['s'][Q[r]] * E[X[0]][Q[r]]\n",
    "    \n",
    "    # compute the recurance for all sequence elements after the first for all states\n",
    "    for i in range(1, len(X)):\n",
    "        for k in range(len(Q)):\n",
    "            f[i, k] = sum([f[i - 1, r] * A[Q[k]][Q[r]] * E[X[i]][Q[k]] for r in range(len(Q))])\n",
    "                \n",
    "    return np.sum(f[-1, :]), f"
   ]
  },
  {
   "cell_type": "code",
   "execution_count": 94,
   "metadata": {},
   "outputs": [
    {
     "data": {
      "text/plain": [
       "-5.449526801374106"
      ]
     },
     "execution_count": 94,
     "metadata": {},
     "output_type": "execute_result"
    }
   ],
   "source": [
    "np.log(forward(seq, states, transitions, emissions)[0])"
   ]
  },
  {
   "cell_type": "markdown",
   "metadata": {},
   "source": [
    "Thus the natural log of the probibility of sequance 0.1, 0.3, 0.2, 0.4, 0.7, 0.9, 1, 1, 0.8, 0.9 with the HMM described above is -5.4495"
   ]
  },
  {
   "cell_type": "markdown",
   "metadata": {},
   "source": [
    "### 2: Implementing the backward algorithm"
   ]
  },
  {
   "cell_type": "code",
   "execution_count": 95,
   "metadata": {},
   "outputs": [],
   "source": [
    "def backward(X, Q, A, E):\n",
    "    X = np.copy(np.round(X)) # we consider [0, .5] low and (.5, 1] high\n",
    "            \n",
    "    b = np.zeros((len(X), len(Q)))\n",
    "    \n",
    "    # initalize the marginal probibility for the last sequance element to 1 for each state\n",
    "    b[-1,:] = 1\n",
    "    \n",
    "    # compute the recurance for each sequance element from the second to last to first for eachs state\n",
    "    for i in reversed(range(len(X) - 1)):\n",
    "        for k in range(len(Q)):\n",
    "            b[i, k] = sum([b[i + 1, r] * A[Q[k]][Q[r]] * E[X[i + 1]][Q[r]] for r in range(len(Q))])\n",
    "    \n",
    "    return b"
   ]
  },
  {
   "cell_type": "code",
   "execution_count": 96,
   "metadata": {},
   "outputs": [],
   "source": [
    "def posterior_decode(X, Q, A, E):\n",
    "    p, f = forward(X, Q, A, E)\n",
    "    b = backward(X, Q, A, E)\n",
    "    \n",
    "    post = (f * b) / p\n",
    "        \n",
    "    return post"
   ]
  },
  {
   "cell_type": "code",
   "execution_count": 102,
   "metadata": {},
   "outputs": [
    {
     "data": {
      "text/plain": [
       "-1.6215009686655406"
      ]
     },
     "execution_count": 102,
     "metadata": {},
     "output_type": "execute_result"
    }
   ],
   "source": [
    "post_dec = posterior_decode(seq, states, transitions, emissions)\n",
    "np.log(post_dec[4][states.index('r')])"
   ]
  },
  {
   "cell_type": "markdown",
   "metadata": {},
   "source": [
    "The log of the  probibility that the 5th element of the sequance is from a hypermethylated region is -1.6215"
   ]
  },
  {
   "cell_type": "markdown",
   "metadata": {},
   "source": [
    "### 3: Learning HMM parameters from mouse embryo stem cell genome"
   ]
  },
  {
   "cell_type": "code",
   "execution_count": 175,
   "metadata": {},
   "outputs": [],
   "source": [
    "# pip install hmmlearn\n",
    "from hmmlearn import hmm\n",
    "import pandas as pd"
   ]
  },
  {
   "cell_type": "code",
   "execution_count": 110,
   "metadata": {},
   "outputs": [
    {
     "data": {
      "text/html": [
       "<div>\n",
       "<style scoped>\n",
       "    .dataframe tbody tr th:only-of-type {\n",
       "        vertical-align: middle;\n",
       "    }\n",
       "\n",
       "    .dataframe tbody tr th {\n",
       "        vertical-align: top;\n",
       "    }\n",
       "\n",
       "    .dataframe thead th {\n",
       "        text-align: right;\n",
       "    }\n",
       "</style>\n",
       "<table border=\"1\" class=\"dataframe\">\n",
       "  <thead>\n",
       "    <tr style=\"text-align: right;\">\n",
       "      <th></th>\n",
       "      <th>chr</th>\n",
       "      <th>position</th>\n",
       "      <th>nTot</th>\n",
       "      <th>nMeth</th>\n",
       "    </tr>\n",
       "  </thead>\n",
       "  <tbody>\n",
       "    <tr>\n",
       "      <th>0</th>\n",
       "      <td>chr1</td>\n",
       "      <td>3000574</td>\n",
       "      <td>37</td>\n",
       "      <td>33</td>\n",
       "    </tr>\n",
       "    <tr>\n",
       "      <th>1</th>\n",
       "      <td>chr1</td>\n",
       "      <td>3000726</td>\n",
       "      <td>5</td>\n",
       "      <td>5</td>\n",
       "    </tr>\n",
       "    <tr>\n",
       "      <th>2</th>\n",
       "      <td>chr1</td>\n",
       "      <td>3000901</td>\n",
       "      <td>2</td>\n",
       "      <td>0</td>\n",
       "    </tr>\n",
       "    <tr>\n",
       "      <th>3</th>\n",
       "      <td>chr1</td>\n",
       "      <td>3001346</td>\n",
       "      <td>13</td>\n",
       "      <td>12</td>\n",
       "    </tr>\n",
       "    <tr>\n",
       "      <th>4</th>\n",
       "      <td>chr1</td>\n",
       "      <td>3001394</td>\n",
       "      <td>17</td>\n",
       "      <td>12</td>\n",
       "    </tr>\n",
       "  </tbody>\n",
       "</table>\n",
       "</div>"
      ],
      "text/plain": [
       "    chr  position  nTot  nMeth\n",
       "0  chr1   3000574    37     33\n",
       "1  chr1   3000726     5      5\n",
       "2  chr1   3000901     2      0\n",
       "3  chr1   3001346    13     12\n",
       "4  chr1   3001394    17     12"
      ]
     },
     "execution_count": 110,
     "metadata": {},
     "output_type": "execute_result"
    }
   ],
   "source": [
    "GSE30202 = pd.read_csv('GSE30202_BisSeq_ES_CpGmeth.tsv', delimiter='\\t')\n",
    "GSE30202.head(5)"
   ]
  },
  {
   "cell_type": "code",
   "execution_count": 124,
   "metadata": {},
   "outputs": [],
   "source": [
    "GSE30202_chrY = GSE30202[(GSE30202['chr'] == 'chrY')]"
   ]
  },
  {
   "cell_type": "code",
   "execution_count": 132,
   "metadata": {},
   "outputs": [
    {
     "data": {
      "text/plain": [
       "19068860    0.714286\n",
       "19068861    0.833333\n",
       "19068862    0.857143\n",
       "19068863    1.000000\n",
       "19068864    0.900000\n",
       "dtype: float64"
      ]
     },
     "execution_count": 132,
     "metadata": {},
     "output_type": "execute_result"
    }
   ],
   "source": [
    "GSE30202_chrY_nMeth_nTot = GSE30202_chrY['nMeth'] / GSE30202_chrY['nTot']\n",
    "GSE30202_chrY_nMeth_nTot.head(5)"
   ]
  },
  {
   "cell_type": "code",
   "execution_count": 130,
   "metadata": {},
   "outputs": [
    {
     "data": {
      "text/plain": [
       "array([0.71428571, 0.83333333, 0.85714286, ..., 0.50980392, 0.10294118, 0.82352941])"
      ]
     },
     "execution_count": 130,
     "metadata": {},
     "output_type": "execute_result"
    }
   ],
   "source": [
    "GSE30202_chrY_nMeth_nTot_np = np.array(GSE30202_chrY_nMeth_nTot)\n",
    "GSE30202_chrY_nMeth_nTot_np"
   ]
  },
  {
   "cell_type": "code",
   "execution_count": 149,
   "metadata": {},
   "outputs": [
    {
     "data": {
      "text/plain": [
       "array([1., 1., 1., ..., 1., 0., 1.])"
      ]
     },
     "execution_count": 149,
     "metadata": {},
     "output_type": "execute_result"
    }
   ],
   "source": [
    "GSE30202_chrY_nMeth_nTot_np = GSE30202_chrY_nMeth_nTot_np.round()\n",
    "GSE30202_chrY_nMeth_nTot_np"
   ]
  },
  {
   "cell_type": "code",
   "execution_count": 141,
   "metadata": {},
   "outputs": [],
   "source": [
    "start_prob = [0.5, 0.5]\n",
    "transmition_prob = [[0.9, 0.1],\n",
    "                    [0.1, 0.9]]\n",
    "emission_prob = [[0.8, 0.2],\n",
    "                 [0.2, 0.8]]"
   ]
  },
  {
   "cell_type": "code",
   "execution_count": 137,
   "metadata": {},
   "outputs": [
    {
     "data": {
      "text/plain": [
       "MultinomialHMM(algorithm='viterbi', init_params='ste', n_components=2,\n",
       "        n_iter=10, params='ste', random_state=None, startprob_prior=1.0,\n",
       "        tol=0.01, transmat_prior=1.0, verbose=False)"
      ]
     },
     "execution_count": 137,
     "metadata": {},
     "output_type": "execute_result"
    }
   ],
   "source": [
    "GSE30202_model = hmm.MultinomialHMM(n_components=2, transmat_prior=transmition_prob, startprob_prior=start_prob, )\n",
    "GSE30202_model.startprob_prior\n",
    "GSE30202_model"
   ]
  },
  {
   "cell_type": "code",
   "execution_count": 140,
   "metadata": {},
   "outputs": [
    {
     "ename": "ValueError",
     "evalue": "expected a sample from a Multinomial distribution.",
     "output_type": "error",
     "traceback": [
      "\u001b[0;31m---------------------------------------------------------------------------\u001b[0m",
      "\u001b[0;31mValueError\u001b[0m                                Traceback (most recent call last)",
      "\u001b[0;32m<ipython-input-140-f7f50bc52734>\u001b[0m in \u001b[0;36m<module>\u001b[0;34m()\u001b[0m\n\u001b[0;32m----> 1\u001b[0;31m \u001b[0mGSE30202_model\u001b[0m\u001b[0;34m.\u001b[0m\u001b[0mfit\u001b[0m\u001b[0;34m(\u001b[0m\u001b[0mGSE30202_chrY_nMeth_nTot_np\u001b[0m\u001b[0;34m.\u001b[0m\u001b[0mreshape\u001b[0m\u001b[0;34m(\u001b[0m\u001b[0;34m-\u001b[0m\u001b[0;36m1\u001b[0m\u001b[0;34m,\u001b[0m \u001b[0;36m1\u001b[0m\u001b[0;34m)\u001b[0m\u001b[0;34m,\u001b[0m \u001b[0mlen\u001b[0m\u001b[0;34m(\u001b[0m\u001b[0mGSE30202_chrY_nMeth_nTot_np\u001b[0m\u001b[0;34m)\u001b[0m\u001b[0;34m)\u001b[0m\u001b[0;34m\u001b[0m\u001b[0m\n\u001b[0m",
      "\u001b[0;32m/opt/anaconda3/lib/python3.6/site-packages/hmmlearn/base.py\u001b[0m in \u001b[0;36mfit\u001b[0;34m(self, X, lengths)\u001b[0m\n\u001b[1;32m    419\u001b[0m         \"\"\"\n\u001b[1;32m    420\u001b[0m         \u001b[0mX\u001b[0m \u001b[0;34m=\u001b[0m \u001b[0mcheck_array\u001b[0m\u001b[0;34m(\u001b[0m\u001b[0mX\u001b[0m\u001b[0;34m)\u001b[0m\u001b[0;34m\u001b[0m\u001b[0m\n\u001b[0;32m--> 421\u001b[0;31m         \u001b[0mself\u001b[0m\u001b[0;34m.\u001b[0m\u001b[0m_init\u001b[0m\u001b[0;34m(\u001b[0m\u001b[0mX\u001b[0m\u001b[0;34m,\u001b[0m \u001b[0mlengths\u001b[0m\u001b[0;34m=\u001b[0m\u001b[0mlengths\u001b[0m\u001b[0;34m)\u001b[0m\u001b[0;34m\u001b[0m\u001b[0m\n\u001b[0m\u001b[1;32m    422\u001b[0m         \u001b[0mself\u001b[0m\u001b[0;34m.\u001b[0m\u001b[0m_check\u001b[0m\u001b[0;34m(\u001b[0m\u001b[0;34m)\u001b[0m\u001b[0;34m\u001b[0m\u001b[0m\n\u001b[1;32m    423\u001b[0m \u001b[0;34m\u001b[0m\u001b[0m\n",
      "\u001b[0;32m/opt/anaconda3/lib/python3.6/site-packages/hmmlearn/hmm.py\u001b[0m in \u001b[0;36m_init\u001b[0;34m(self, X, lengths)\u001b[0m\n\u001b[1;32m    375\u001b[0m     \u001b[0;32mdef\u001b[0m \u001b[0m_init\u001b[0m\u001b[0;34m(\u001b[0m\u001b[0mself\u001b[0m\u001b[0;34m,\u001b[0m \u001b[0mX\u001b[0m\u001b[0;34m,\u001b[0m \u001b[0mlengths\u001b[0m\u001b[0;34m=\u001b[0m\u001b[0;32mNone\u001b[0m\u001b[0;34m)\u001b[0m\u001b[0;34m:\u001b[0m\u001b[0;34m\u001b[0m\u001b[0m\n\u001b[1;32m    376\u001b[0m         \u001b[0;32mif\u001b[0m \u001b[0;32mnot\u001b[0m \u001b[0mself\u001b[0m\u001b[0;34m.\u001b[0m\u001b[0m_check_input_symbols\u001b[0m\u001b[0;34m(\u001b[0m\u001b[0mX\u001b[0m\u001b[0;34m)\u001b[0m\u001b[0;34m:\u001b[0m\u001b[0;34m\u001b[0m\u001b[0m\n\u001b[0;32m--> 377\u001b[0;31m             raise ValueError(\"expected a sample from \"\n\u001b[0m\u001b[1;32m    378\u001b[0m                              \"a Multinomial distribution.\")\n\u001b[1;32m    379\u001b[0m \u001b[0;34m\u001b[0m\u001b[0m\n",
      "\u001b[0;31mValueError\u001b[0m: expected a sample from a Multinomial distribution."
     ]
    }
   ],
   "source": [
    "GSE30202_model.fit(GSE30202_chrY_nMeth_nTot_np.reshape(-1, 1), len(GSE30202_chrY_nMeth_nTot_np))"
   ]
  },
  {
   "cell_type": "markdown",
   "metadata": {},
   "source": [
    "#### **Ignore the cells above this, I'm still trying to figure out how to use that library.**"
   ]
  },
  {
   "cell_type": "code",
   "execution_count": 166,
   "metadata": {},
   "outputs": [],
   "source": [
    "# pip install hidden_markov\n",
    "import hidden_markov"
   ]
  },
  {
   "cell_type": "code",
   "execution_count": 167,
   "metadata": {},
   "outputs": [],
   "source": [
    "states_t = tuple(states)\n",
    "alphabet_t = (0, 1)\n",
    "start_prob = np.matrix('0.5, 0.5')\n",
    "trans_prob = np.matrix('0.9, 0.1 ; 0.1, 0.9')\n",
    "emissions_prob = np.matrix('0.8, 0.2 ; 0.2, 0.8')"
   ]
  },
  {
   "cell_type": "code",
   "execution_count": 168,
   "metadata": {},
   "outputs": [],
   "source": [
    "observation_t = [tuple(GSE30202_chrY_nMeth_nTot_np)]\n",
    "# observation_t"
   ]
  },
  {
   "cell_type": "code",
   "execution_count": 169,
   "metadata": {},
   "outputs": [],
   "source": [
    "model = hidden_markov.hmm(states_t, alphabet_t, start_prob, trans_prob, emissions_prob)"
   ]
  },
  {
   "cell_type": "code",
   "execution_count": 170,
   "metadata": {},
   "outputs": [],
   "source": [
    "e, t, s = model.train_hmm(observation_t, 1000, [len(observation_t[0])])"
   ]
  },
  {
   "cell_type": "code",
   "execution_count": 171,
   "metadata": {},
   "outputs": [
    {
     "data": {
      "text/plain": [
       "matrix([[0.76217898, 0.23782102],\n",
       "        [0.05259006, 0.94740994]])"
      ]
     },
     "execution_count": 171,
     "metadata": {},
     "output_type": "execute_result"
    }
   ],
   "source": [
    "e"
   ]
  },
  {
   "cell_type": "code",
   "execution_count": 172,
   "metadata": {},
   "outputs": [
    {
     "data": {
      "text/plain": [
       "matrix([[0.81121887, 0.18878113],\n",
       "        [0.01217247, 0.98782753]])"
      ]
     },
     "execution_count": 172,
     "metadata": {},
     "output_type": "execute_result"
    }
   ],
   "source": [
    "t"
   ]
  },
  {
   "cell_type": "code",
   "execution_count": 173,
   "metadata": {},
   "outputs": [
    {
     "data": {
      "text/plain": [
       "matrix([[0.00329042, 0.99670958]])"
      ]
     },
     "execution_count": 173,
     "metadata": {},
     "output_type": "execute_result"
    }
   ],
   "source": [
    "s"
   ]
  },
  {
   "cell_type": "markdown",
   "metadata": {},
   "source": [
    "### Learned probabilities:\n",
    "emissions:  \n",
    "\n",
    "|   | Hyper   | Hypo   |\n",
    "|---|---------|--------|\n",
    "| **Low** | 0.01217 | 0.9878 |\n",
    "| **HIgh** | 0.8112  | 0.1887 |\n",
    "\n",
    "transitions:  \n",
    "\n",
    "| | Hyper | Hypo |\n",
    "|---|---|---|\n",
    "|__Hyper__| 0.8112 | 0.1887 |\n",
    "|__Hypo__| 0.0121 | 0.9878 |\n",
    "\n",
    "start:\n",
    "\n",
    "|Hyper|Hypo|\n",
    "|---|---|\n",
    "|0.0121|0.9967|"
   ]
  },
  {
   "cell_type": "code",
   "execution_count": null,
   "metadata": {},
   "outputs": [],
   "source": []
  }
 ],
 "metadata": {
  "kernelspec": {
   "display_name": "Python 3",
   "language": "python",
   "name": "python3"
  },
  "language_info": {
   "codemirror_mode": {
    "name": "ipython",
    "version": 3
   },
   "file_extension": ".py",
   "mimetype": "text/x-python",
   "name": "python",
   "nbconvert_exporter": "python",
   "pygments_lexer": "ipython3",
   "version": "3.6.4"
  }
 },
 "nbformat": 4,
 "nbformat_minor": 2
}
